{
  "nbformat": 4,
  "nbformat_minor": 0,
  "metadata": {
    "colab": {
      "provenance": [],
      "include_colab_link": true
    },
    "kernelspec": {
      "name": "python3",
      "display_name": "Python 3"
    },
    "language_info": {
      "name": "python"
    }
  },
  "cells": [
    {
      "cell_type": "markdown",
      "metadata": {
        "id": "view-in-github",
        "colab_type": "text"
      },
      "source": [
        "<a href=\"https://colab.research.google.com/github/ccl2025/personal/blob/main/git.ipynb\" target=\"_parent\"><img src=\"https://colab.research.google.com/assets/colab-badge.svg\" alt=\"Open In Colab\"/></a>"
      ]
    },
    {
      "cell_type": "code",
      "source": [
        "import os\n",
        "from google.colab import drive\n",
        "from google.colab import auth\n",
        "from google.auth import default\n",
        "\n",
        "drive.mount('/content/drive/', force_remount=True)\n",
        "os.chdir('/content/drive/MyDrive/workspace/<repository_name')"
      ],
      "metadata": {
        "colab": {
          "base_uri": "https://localhost:8080/"
        },
        "id": "AKmAkjUIuWK8",
        "outputId": "e112f4d9-dc23-46f6-e13b-48ab6e3b05a3"
      },
      "execution_count": null,
      "outputs": [
        {
          "output_type": "stream",
          "name": "stdout",
          "text": [
            "Mounted at /content/drive/\n"
          ]
        }
      ]
    },
    {
      "cell_type": "markdown",
      "source": [
        "Setup SSH folder on Google Colab VM"
      ],
      "metadata": {
        "id": "qgzCGlG30K-x"
      }
    },
    {
      "cell_type": "code",
      "source": [
        "!mkdir -p /root/.ssh\n",
        "\n",
        "!cp /content/drive/MyDrive/workspace/ssh_keys/* /root/.ssh/\n",
        "\n",
        "!ls -la /root/.ssh/"
      ],
      "metadata": {
        "colab": {
          "base_uri": "https://localhost:8080/"
        },
        "id": "yEbJ6ytl0Ef0",
        "outputId": "51f5ce75-d389-4192-f495-7841c8ef2a67"
      },
      "execution_count": null,
      "outputs": [
        {
          "output_type": "stream",
          "name": "stdout",
          "text": [
            "total 36\n",
            "drwxr-xr-x 2 root root 4096 Dec 27 01:47 .\n",
            "drwx------ 1 root root 4096 Dec 27 01:47 ..\n",
            "-rw------- 1 root root  464 Dec 27 02:06 id_ed25519\n",
            "-rw------- 1 root root   99 Dec 27 02:06 id_ed25519.pub\n",
            "-rw------- 1 root root 3243 Dec 27 02:06 id_rsa\n",
            "-rw------- 1 root root  743 Dec 27 02:06 id_rsa.pub\n",
            "-rw------- 1 root root 4518 Dec 27 02:06 known_hosts\n"
          ]
        }
      ]
    },
    {
      "cell_type": "markdown",
      "source": [
        "Add github.com to your list of known hosts"
      ],
      "metadata": {
        "id": "VXAy_F91HqpO"
      }
    },
    {
      "cell_type": "code",
      "source": [
        "!ssh-keyscan github.com >> /root/.ssh/known_hosts"
      ],
      "metadata": {
        "id": "9gcgAQsYHp_e"
      },
      "execution_count": null,
      "outputs": []
    },
    {
      "cell_type": "markdown",
      "source": [
        "Configure git with your email and name for the current Google Colab VM"
      ],
      "metadata": {
        "id": "VvuV9dabyqrG"
      }
    },
    {
      "cell_type": "code",
      "source": [
        "!git config --global user.email \"your.email@example.com\"\n",
        "!git config --global user.name \"Your Name\""
      ],
      "metadata": {
        "id": "C5Wt6QioyoME"
      },
      "execution_count": null,
      "outputs": []
    },
    {
      "cell_type": "markdown",
      "source": [
        "Execute git commands: i.e status, diff, log, checkout, branch, fetch, rebase, commit, push, reset etc."
      ],
      "metadata": {
        "id": "e5OpfMdBRYeq"
      }
    },
    {
      "cell_type": "code",
      "source": [
        "!git status\n",
        "!git diff\n",
        "!git log\n",
        "!git fetch"
      ],
      "metadata": {
        "id": "gFb6znK7T3cl"
      },
      "execution_count": null,
      "outputs": []
    }
  ]
}