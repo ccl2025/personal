{
  "nbformat": 4,
  "nbformat_minor": 0,
  "metadata": {
    "colab": {
      "provenance": [],
      "include_colab_link": true
    },
    "kernelspec": {
      "name": "python3",
      "display_name": "Python 3"
    },
    "language_info": {
      "name": "python"
    }
  },
  "cells": [
    {
      "cell_type": "markdown",
      "metadata": {
        "id": "view-in-github",
        "colab_type": "text"
      },
      "source": [
        "<a href=\"https://colab.research.google.com/github/ccl2025/personal/blob/main/tensorboard.ipynb\" target=\"_parent\"><img src=\"https://colab.research.google.com/assets/colab-badge.svg\" alt=\"Open In Colab\"/></a>"
      ]
    },
    {
      "cell_type": "code",
      "execution_count": null,
      "metadata": {
        "id": "zi_VRlsVYeIq"
      },
      "outputs": [],
      "source": [
        "from google.colab import drive\n",
        "from google.colab import auth\n",
        "from google.auth import default\n",
        "import os\n",
        "\n",
        "drive.mount('/content/drive/', force_remount=True)\n",
        "os.chdir('/content/drive/MyDrive/workspace/<repository_name>')"
      ]
    },
    {
      "cell_type": "markdown",
      "source": [
        "Launch Tensorboard to visualize logged summary"
      ],
      "metadata": {
        "id": "5iUr5cCYYj9Q"
      }
    },
    {
      "cell_type": "code",
      "source": [
        "%load_ext tensorboard\n",
        "%tensorboard --logdir <path/to/checkpoint/directory>"
      ],
      "metadata": {
        "id": "fpKdFEJpYo2T"
      },
      "execution_count": null,
      "outputs": []
    }
  ]
}