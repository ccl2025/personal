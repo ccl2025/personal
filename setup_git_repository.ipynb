{
  "nbformat": 4,
  "nbformat_minor": 0,
  "metadata": {
    "colab": {
      "provenance": [],
      "include_colab_link": true
    },
    "kernelspec": {
      "name": "python3",
      "display_name": "Python 3"
    },
    "language_info": {
      "name": "python"
    }
  },
  "cells": [
    {
      "cell_type": "markdown",
      "metadata": {
        "id": "view-in-github",
        "colab_type": "text"
      },
      "source": [
        "<a href=\"https://colab.research.google.com/github/ccl2025/personal/blob/main/setup_git_repository.ipynb\" target=\"_parent\"><img src=\"https://colab.research.google.com/assets/colab-badge.svg\" alt=\"Open In Colab\"/></a>"
      ]
    },
    {
      "cell_type": "code",
      "execution_count": null,
      "metadata": {
        "id": "7ChnFun-VQnm"
      },
      "outputs": [],
      "source": [
        "import os\n",
        "from google.colab import drive\n",
        "from google.colab import auth\n",
        "from google.auth import default\n",
        "\n",
        "drive.mount('/content/drive/', force_remount=True)\n",
        "os.chdir('/content/drive/MyDrive/workspace/')"
      ]
    },
    {
      "cell_type": "markdown",
      "source": [
        "Setup SSH folder on Google Colab VM"
      ],
      "metadata": {
        "id": "9-GLPDzkoEwg"
      }
    },
    {
      "cell_type": "code",
      "source": [
        "!mkdir -p /root/.ssh\n",
        "\n",
        "!cp ssh_keys/* /root/.ssh/\n",
        "\n",
        "!ls -la /root/.ssh/"
      ],
      "metadata": {
        "id": "CUTKPLJ_W4vV"
      },
      "execution_count": null,
      "outputs": []
    },
    {
      "cell_type": "markdown",
      "source": [
        "Add github.com to your list of known hosts"
      ],
      "metadata": {
        "id": "wvxxY5PQoR0L"
      }
    },
    {
      "cell_type": "code",
      "source": [
        "!ssh-keyscan github.com >> /root/.ssh/known_hosts"
      ],
      "metadata": {
        "id": "8V9BxtKyoO82"
      },
      "execution_count": null,
      "outputs": []
    },
    {
      "cell_type": "markdown",
      "source": [
        "Add SSH keys and test connection to github"
      ],
      "metadata": {
        "id": "q2SzJ9wDoZcR"
      }
    },
    {
      "cell_type": "code",
      "source": [
        "!ssh-add /root/.ssh/id_rsa\n",
        "!ssh -T git@github.com"
      ],
      "metadata": {
        "id": "2xxnaNIUoYae"
      },
      "execution_count": null,
      "outputs": []
    },
    {
      "cell_type": "markdown",
      "source": [
        "Configure git with your email and name for the current Google Colab VM"
      ],
      "metadata": {
        "id": "fgX8CZm6of8J"
      }
    },
    {
      "cell_type": "code",
      "source": [
        "!git config --global user.email \"your.email@example.com\"\n",
        "!git config --global user.name \"Your Name\""
      ],
      "metadata": {
        "id": "fYeRe8Kkoj69"
      },
      "execution_count": null,
      "outputs": []
    },
    {
      "cell_type": "markdown",
      "source": [
        "Clone github repository"
      ],
      "metadata": {
        "id": "xABHKaLho6RR"
      }
    },
    {
      "cell_type": "code",
      "source": [
        "!git clone git@github.com:<username>/<repository>.git\n",
        "\n",
        "# You will now have the repository in\n",
        "# /content/drive/MyDrive/workspace/<repository>"
      ],
      "metadata": {
        "id": "GRqbTYJkXBk2"
      },
      "execution_count": null,
      "outputs": []
    }
  ]
}